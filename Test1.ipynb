{
 "cells": [
  {
   "cell_type": "markdown",
   "id": "89835ecd",
   "metadata": {},
   "source": [
    "## Basic"
   ]
  },
  {
   "cell_type": "markdown",
   "id": "7dcf3932",
   "metadata": {},
   "source": [
    "#### Exercise 7: Sum of the First n Positive Integers\n",
    "\n",
    "Write a program that reads a positive integer, n, from the user and then displays the\n",
    "sum of all of the integers from 1 to n. "
   ]
  },
  {
   "cell_type": "code",
   "execution_count": null,
   "id": "288b87eb",
   "metadata": {},
   "outputs": [],
   "source": []
  },
  {
   "cell_type": "markdown",
   "id": "6772c953",
   "metadata": {},
   "source": [
    "#### Exercise 32: Sort 3 Integers\n",
    "\n",
    "Create a program that reads three integers from the user and displays them in sorted\n",
    "order (from smallest to largest). Use the <b>min</b> and <b>max</b> functions to find the smallest\n",
    "and largest values. The middle value can be found by computing the sum of all three\n",
    "values, and then subtracting the minimum value and the maximum value."
   ]
  },
  {
   "cell_type": "code",
   "execution_count": null,
   "id": "169d7215",
   "metadata": {},
   "outputs": [],
   "source": []
  },
  {
   "cell_type": "markdown",
   "id": "2daaf729",
   "metadata": {},
   "source": [
    "## Conditions"
   ]
  },
  {
   "cell_type": "markdown",
   "id": "d77a4716",
   "metadata": {},
   "source": [
    "#### Exercise 36: Vowel or Consonant\n",
    "\n",
    "In this exercise you will create a program that reads a letter of the alphabet from the\n",
    "user. If the user enters <b> a, e, ı, i, o, ö, u, ü </b> then your program should display a message\n",
    "indicating that the entered letter is a vowel. If the user enters y then your program\n",
    "should display a message indicating that sometimes y is a vowel, and sometimes y is\n",
    "a consonant. Otherwise your program should display a message indicating that the\n",
    "letter is a consonant."
   ]
  },
  {
   "cell_type": "code",
   "execution_count": null,
   "id": "80f26bd2",
   "metadata": {},
   "outputs": [],
   "source": []
  },
  {
   "cell_type": "markdown",
   "id": "8a4eae98",
   "metadata": {},
   "source": [
    "#### Exercise 59: Is a License Plate Valid?\n",
    "\n",
    "In a particular jurisdiction, older license plates consist of three uppercase letters\n",
    "followed by three numbers. When all of the license plates following that pattern had been used, the format was changed to four numbers followed by three uppercase\n",
    "letters.\n",
    "Write a program that begins by reading a string of characters from the user. Then\n",
    "your program should display a message indicating whether the characters are valid\n",
    "for an older style license plate or a newer style license plate. Your program should\n",
    "display an appropriate message if the string entered by the user is not valid for either\n",
    "style of license plate."
   ]
  },
  {
   "cell_type": "code",
   "execution_count": null,
   "id": "fce71a7a",
   "metadata": {},
   "outputs": [],
   "source": []
  },
  {
   "cell_type": "markdown",
   "id": "38c54ac4",
   "metadata": {},
   "source": [
    "## LOOP"
   ]
  },
  {
   "cell_type": "markdown",
   "id": "1b0833bb",
   "metadata": {},
   "source": [
    "### Exercise 70: Caesar Cipher\n",
    "\n",
    "One of the first known examples of encryption was used by Julius Caesar. Caesar\n",
    "needed to provide written instructions to his generals, but he didn’t want his enemies to learn his plans if the message slipped into their hands. As result, he developed\n",
    "what later became known as the Caesar Cipher.\n",
    "The idea behind this cipher is simple (and as a result, it provides no protection\n",
    "against modern code breaking techniques). Each letter in the original message is\n",
    "shifted by 3 places. As a result, A becomes D, B becomes E, C becomes F, D\n",
    "becomes G, etc. The last three letters in the alphabet are wrapped around to the\n",
    "beginning: X becomes A, Y becomes B and Z becomes C. Non-letter characters are\n",
    "not modified by the cipher.\n",
    "Write a program that implements a Caesar cipher. Allow the user to supply the\n",
    "message and the shift amount, and then display the shifted message. Ensure that\n",
    "your program encodes both uppercase and lowercase letters. Your program should\n",
    "also support negative shift values so that it can be used both to encode messages and\n",
    "decode messages."
   ]
  },
  {
   "cell_type": "code",
   "execution_count": null,
   "id": "efa12802",
   "metadata": {},
   "outputs": [],
   "source": []
  },
  {
   "cell_type": "markdown",
   "id": "6faae599",
   "metadata": {},
   "source": [
    "### Exercise 75: Greatest Common Divisor\n",
    "\n",
    "The greatest common divisor of two positive integers, n and m, is the largest number,\n",
    "d, which divides evenly into both n and m. There are several algorithms that can be\n",
    "used to solve this problem, including:\n",
    "<img src=\"image/75.png\">\n",
    "\n",
    "Write a program that reads two positive integers from the user and uses this algorithm\n",
    "to determine and report their greatest common divisor."
   ]
  },
  {
   "cell_type": "code",
   "execution_count": null,
   "id": "8ddf4863",
   "metadata": {},
   "outputs": [],
   "source": []
  },
  {
   "cell_type": "markdown",
   "id": "c162dbb5",
   "metadata": {},
   "source": [
    "### Exercise 78: Decimal to Binary\n",
    "\n",
    "Write a program that converts a decimal (base 10) number to binary (base 2). Read the\n",
    "decimal number from the user as an integer and then use the division algorithm shown\n",
    "below to perform the conversion. When the algorithm completes, result contains the\n",
    "binary representation of the number. Display the result, along with an appropriate\n",
    "message.\n",
    "Let result be an empty string\n",
    "Let q represent the number to convert\n",
    "repeat\n",
    "     Set r equal to the remainder when q is divided by 2\n",
    "    Convert r to a string and add it to the beginning of result\n",
    "    Divide q by 2, discarding any remainder, and store the result back into q\n",
    "until q is 0"
   ]
  },
  {
   "cell_type": "code",
   "execution_count": null,
   "id": "6347b634",
   "metadata": {},
   "outputs": [],
   "source": []
  },
  {
   "cell_type": "markdown",
   "id": "776e13ea",
   "metadata": {},
   "source": [
    "## Functions"
   ]
  },
  {
   "cell_type": "markdown",
   "id": "4727e306",
   "metadata": {},
   "source": [
    "### Exercise 92: Is a Number Prime?\n",
    "\n",
    "A prime number is an integer greater than 1 that is only divisible by one and itself.\n",
    "Write a function that determines whether or not its parameter is prime, returning\n",
    "True if it is, and False otherwise. Write a main program that reads an integer\n",
    "from the user and displays a message indicating whether or not it is prime. Ensure\n",
    "that the main program will not run if the file containing your solution is imported\n",
    "into another program."
   ]
  },
  {
   "cell_type": "code",
   "execution_count": null,
   "id": "3f755371",
   "metadata": {},
   "outputs": [],
   "source": []
  },
  {
   "cell_type": "markdown",
   "id": "29a3bd05",
   "metadata": {},
   "source": [
    "### Exercise 93: Next Prime\n",
    "\n",
    "In this exercise you will create a function named nextPrime that finds and returns\n",
    "the first prime number larger than some integer, n. The value of n will be passed to the function as its only parameter. Include a main program that reads an integer from\n",
    "the user and displays the first prime number larger than the entered value. Import\n",
    "and use your solution to Exercise 92 while completing this exercise."
   ]
  },
  {
   "cell_type": "code",
   "execution_count": null,
   "id": "18c945cd",
   "metadata": {},
   "outputs": [],
   "source": []
  },
  {
   "cell_type": "markdown",
   "id": "e3c81dac",
   "metadata": {},
   "source": [
    "## List"
   ]
  },
  {
   "cell_type": "markdown",
   "id": "d5af11b5",
   "metadata": {},
   "source": [
    "### Exercise 107: Avoiding Duplicates\n",
    "\n",
    "In this exercise, you will create a program that reads words from the user until the\n",
    "user enters a blank line. After the user enters a blank line your program should display each word entered by the user exactly once. The words should be displayed in\n",
    "the same order that they were entered."
   ]
  },
  {
   "cell_type": "code",
   "execution_count": null,
   "id": "5cd59c5f",
   "metadata": {},
   "outputs": [],
   "source": []
  },
  {
   "cell_type": "markdown",
   "id": "70e8a879",
   "metadata": {},
   "source": [
    "## Dictionary "
   ]
  },
  {
   "cell_type": "markdown",
   "id": "117ebf1b",
   "metadata": {},
   "source": [
    "### Exercise 129: Two Dice Simulation\n",
    "In this exercise you will simulate 1,000 rolls of two dice. Begin by writing a function that simulates rolling a pair of six-sided dice. Your function will not take any\n",
    "parameters. It will return the total that was rolled on two dice as its only result.\n",
    "Write a main program that uses your function to simulate rolling two six-sided\n",
    "dice 1,000 times. As your program runs, it should count the number of times that each\n",
    "total occurs. Then it should display a table that summarizes this data. Express the\n",
    "frequency for each total as a percentage of the total number of rolls. Your program\n",
    "should also display the percentage expected by probability theory for each total.\n",
    "Sample output is shown below.\n",
    "\n",
    "<html>\n",
    "    <body>\n",
    "<table border=2>\n",
    "    <tr>\n",
    "        <td>Total</td>\n",
    "        <td>Simulated Percent</td>\n",
    "        <td>Expected Percent</td>\n",
    "    </tr>\n",
    "    <tr>\n",
    "        <td>2</td>\n",
    "        <td>2.90</td>\n",
    "        <td>2.78</td>\n",
    "    </tr>\n",
    "    <tr>\n",
    "        <td>3</td>\n",
    "        <td>6.90</td>\n",
    "        <td>5.56</td>\n",
    "    </tr>\n",
    "    <tr>\n",
    "        <td>4</td>\n",
    "        <td>9.40</td>\n",
    "        <td>8.33</td>\n",
    "    </tr>\n",
    "    <tr>\n",
    "        <td>5</td>\n",
    "        <td>11.90</td>\n",
    "        <td>11.11</td>\n",
    "    </tr>\n",
    "    <tr>\n",
    "        <td>6</td>\n",
    "        <td>14.20</td>\n",
    "        <td>13.89</td>\n",
    "    </tr>\n",
    "    <tr>\n",
    "        <td>7</td>\n",
    "        <td>14.20</td>\n",
    "        <td>16.67</td>\n",
    "    </tr>\n",
    "    <tr>\n",
    "        <td>8</td>\n",
    "        <td>15.00</td>\n",
    "        <td>13.89</td>\n",
    "    </tr>\n",
    "    <tr>\n",
    "        <td>9</td>\n",
    "        <td>10.50</td>\n",
    "        <td>11.11</td>\n",
    "    </tr>\n",
    "    <tr>\n",
    "        <td>10</td>\n",
    "        <td>7.90</td>\n",
    "        <td>8.33</td>\n",
    "    </tr>\n",
    "    <tr>\n",
    "        <td>11</td>\n",
    "        <td>4.50</td>\n",
    "        <td>5.56</td>\n",
    "    </tr>\n",
    "    <tr>\n",
    "        <td>12</td>\n",
    "        <td>2.60</td>\n",
    "        <td>2.78</td>\n",
    "    </tr>\n",
    "    \n",
    "</table>\n",
    "    </body>\n",
    "</html>"
   ]
  },
  {
   "cell_type": "code",
   "execution_count": null,
   "id": "cacb417d",
   "metadata": {},
   "outputs": [],
   "source": []
  },
  {
   "cell_type": "markdown",
   "id": "c03f9888",
   "metadata": {},
   "source": [
    "## Try-Except"
   ]
  },
  {
   "cell_type": "markdown",
   "id": "a05d29fc",
   "metadata": {},
   "source": [
    "### Exercise 148: Sum a List of Numbers\n",
    "\n",
    "Create a program that sums all of the numbers entered by the user while ignoring\n",
    "any lines entered by the user that are not valid numbers. Your program should display the current sum after each number is entered. It should display an appropriate\n",
    "error message after any invalid input, and then continue to sum any additional numbers entered by the user. Your program should exit when the user enters a blank\n",
    "line. Ensure that your program works correctly for both integers and floating point\n",
    "numbers.\n",
    "Hint: This exercise requires you to use exceptions without using files."
   ]
  },
  {
   "cell_type": "code",
   "execution_count": null,
   "id": "e23f9cad",
   "metadata": {},
   "outputs": [],
   "source": []
  }
 ],
 "metadata": {
  "kernelspec": {
   "display_name": "Python 3 (ipykernel)",
   "language": "python",
   "name": "python3"
  },
  "language_info": {
   "codemirror_mode": {
    "name": "ipython",
    "version": 3
   },
   "file_extension": ".py",
   "mimetype": "text/x-python",
   "name": "python",
   "nbconvert_exporter": "python",
   "pygments_lexer": "ipython3",
   "version": "3.9.12"
  }
 },
 "nbformat": 4,
 "nbformat_minor": 5
}
